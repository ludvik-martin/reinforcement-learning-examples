{
 "cells": [
  {
   "cell_type": "code",
   "execution_count": 2,
   "metadata": {},
   "outputs": [],
   "source": [
    "import sys\n",
    "sys.path.append(\"/app\")\n",
    "from examples.reinforce import ReinforceNetwork\n",
    "from examples.gym_utils import NormalizedObservationWrapper, CartPoleRewardWrapper\n",
    "import unittest\n",
    "from unittest import TestCase\n",
    "import gym\n",
    "import tensorflow as tf"
   ]
  },
  {
   "cell_type": "code",
   "execution_count": 4,
   "metadata": {},
   "outputs": [],
   "source": [
    "%reload_ext autoreload\n",
    "%autoreload 2"
   ]
  },
  {
   "cell_type": "code",
   "execution_count": 7,
   "metadata": {},
   "outputs": [],
   "source": [
    "env = CartPoleRewardWrapper(gym.make('CartPole-v1'))\n",
    "writer = tf.summary.create_file_writer(\"/tmp/gym-results/CartPole\")\n",
    "reinforce = ReinforceNetwork(env, alpha=1e-3, alpha_decay=.998, min_epsilon=0, gamma=.99, batch_normalization=False, init_epsilon=0)\n",
    "num_episodes = 800\n",
    "for episode in range(num_episodes):\n",
    "    reinforce.training_episode(debug=False)\n",
    "\n",
    "reinforce.visualise_cumulative_reward(10, \"/tmp/gym-results/CartPole\")"
   ]
  },
  {
   "cell_type": "code",
   "execution_count": 2,
   "metadata": {},
   "outputs": [],
   "source": [
    "env = NormalizedObservationWrapper(gym.make('MountainCar-v0'))\n",
    "writer = tf.summary.create_file_writer(\"/tmp/gym-results/MountainCar\")\n",
    "reinforce = ReinforceNetwork(env, alpha=1e-3, alpha_decay=.998, min_epsilon=0, gamma=.99, batch_normalization=False, init_epsilon=0)\n",
    "num_episodes = 800\n",
    "for episode in range(num_episodes):\n",
    "    reinforce.training_episode(debug=False)\n",
    "reinforce.visualise_cumulative_reward(10)"
   ]
  },
  {
   "cell_type": "code",
   "execution_count": 3,
   "metadata": {},
   "outputs": [],
   "source": [
    "reinforce.visualise_cumulative_reward(10)"
   ]
  },
  {
   "cell_type": "code",
   "execution_count": null,
   "metadata": {},
   "outputs": [],
   "source": []
  }
 ],
 "metadata": {
  "kernelspec": {
   "display_name": "Python 3",
   "language": "python",
   "name": "python3"
  },
  "language_info": {
   "codemirror_mode": {
    "name": "ipython",
    "version": 3
   },
   "file_extension": ".py",
   "mimetype": "text/x-python",
   "name": "python",
   "nbconvert_exporter": "python",
   "pygments_lexer": "ipython3",
   "version": "3.5.2"
  }
 },
 "nbformat": 4,
 "nbformat_minor": 2
}
